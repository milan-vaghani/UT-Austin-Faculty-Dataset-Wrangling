{
  "nbformat": 4,
  "nbformat_minor": 0,
  "metadata": {
    "colab": {
      "provenance": []
    },
    "kernelspec": {
      "name": "python3",
      "display_name": "Python 3"
    },
    "language_info": {
      "name": "python"
    }
  },
  "cells": [
    {
      "cell_type": "code",
      "source": [
        "# pip install sentence-transformers"
      ],
      "metadata": {
        "id": "j39D9RkwvKR3"
      },
      "execution_count": 110,
      "outputs": []
    },
    {
      "cell_type": "code",
      "source": [
        "import pandas as pd\n",
        "from sentence_transformers import SentenceTransformer\n",
        "from sklearn.cluster import KMeans\n",
        "from sklearn.metrics import silhouette_score\n",
        "import numpy as np"
      ],
      "metadata": {
        "id": "FPgu2mcspXOF"
      },
      "execution_count": 111,
      "outputs": []
    },
    {
      "cell_type": "code",
      "source": [
        "file_path = 'fmp-dump.csv'\n",
        "data = pd.read_csv(file_path)"
      ],
      "metadata": {
        "id": "EOpLszxkqNRp"
      },
      "execution_count": 112,
      "outputs": []
    },
    {
      "cell_type": "code",
      "source": [
        "# Normalizing 'Faculty' table\n",
        "faculty_df = data[['First Name', 'Last Name', 'Job Title']].drop_duplicates().reset_index(drop=True)\n",
        "faculty_df['FacultyID'] = faculty_df.index + 1  # Adding primary key for each faculty"
      ],
      "metadata": {
        "id": "RXKzKifxqRdC"
      },
      "execution_count": 113,
      "outputs": []
    },
    {
      "cell_type": "code",
      "source": [
        "# Normalizing 'Department' table\n",
        "department_df = data[['Department', 'School']].drop_duplicates().reset_index(drop=True)\n",
        "department_df['DepartmentID'] = department_df.index + 1  # Adding primary key for each department\n",
        "\n",
        "# Maping each faculty to their department\n",
        "faculty_df = faculty_df.merge(data[['First Name', 'Last Name', 'Department']],\n",
        "                              on=['First Name', 'Last Name'], how='left')\n",
        "faculty_df = faculty_df.merge(department_df[['Department', 'DepartmentID']],\n",
        "                              on='Department', how='left').drop(columns=['Department'])"
      ],
      "metadata": {
        "id": "iRKUGzVWqUXe"
      },
      "execution_count": 114,
      "outputs": []
    },
    {
      "cell_type": "code",
      "source": [
        "# Normalizing 'Expertise' table\n",
        "expertise_df = data['Area of Expertise'].str.split(', ', expand=True).stack().reset_index(level=1, drop=True)\n",
        "expertise_df = expertise_df.reset_index().rename(columns={0: 'Expertise'})\n",
        "expertise_df = expertise_df.drop_duplicates().reset_index(drop=True)\n",
        "expertise_df['ExpertiseID'] = expertise_df.index + 1  # Adding primary key for expertise"
      ],
      "metadata": {
        "id": "Zd1yw3E7qWbk"
      },
      "execution_count": 115,
      "outputs": []
    },
    {
      "cell_type": "code",
      "source": [
        "# Normalizing 'Country' table\n",
        "country_df = data['Countries of Interest'].str.split(', ', expand=True).stack().reset_index(level=1, drop=True)\n",
        "country_df = country_df.reset_index().rename(columns={0: 'Country'})\n",
        "country_df = country_df.drop_duplicates().reset_index(drop=True)\n",
        "country_df['CountryID'] = country_df.index + 1  # Adding primary key for countries"
      ],
      "metadata": {
        "id": "1ENiid3Uqa6x"
      },
      "execution_count": 116,
      "outputs": []
    },
    {
      "cell_type": "code",
      "source": [
        "# Maping each faculty to their expertise and countries of interest through relational tables\n",
        "faculty_expertise_df = data[['First Name', 'Last Name', 'Area of Expertise']].merge(faculty_df[['First Name', 'Last Name', 'FacultyID']],\n",
        "                                                                                     on=['First Name', 'Last Name'])\n",
        "faculty_expertise_df = faculty_expertise_df[['FacultyID', 'Area of Expertise']].drop_duplicates()\n",
        "\n",
        "# Exploding expertise to match 3NF structure\n",
        "faculty_expertise_df = faculty_expertise_df.assign(Expertise=faculty_expertise_df['Area of Expertise'].str.split(', ')).explode('Expertise')\n",
        "faculty_expertise_df = faculty_expertise_df.merge(expertise_df[['Expertise', 'ExpertiseID']], on='Expertise').drop(columns=['Area of Expertise', 'Expertise'])\n",
        "\n",
        "# Mapping faculty to countries of interest\n",
        "faculty_country_df = data[['First Name', 'Last Name', 'Countries of Interest']].merge(faculty_df[['First Name', 'Last Name', 'FacultyID']],\n",
        "                                                                                     on=['First Name', 'Last Name'])\n",
        "faculty_country_df = faculty_country_df[['FacultyID', 'Countries of Interest']].drop_duplicates()\n",
        "\n",
        "# Exploding countries of interest for 3NF\n",
        "faculty_country_df = faculty_country_df.assign(Country=faculty_country_df['Countries of Interest'].str.split(', ')).explode('Country')\n",
        "faculty_country_df = faculty_country_df.merge(country_df[['Country', 'CountryID']], on='Country').drop(columns=['Countries of Interest', 'Country'])"
      ],
      "metadata": {
        "id": "DvA1N7BJqgGW"
      },
      "execution_count": 117,
      "outputs": []
    },
    {
      "cell_type": "code",
      "source": [
        "# Expertise Clustering Using Transformer and kmeans clustering to boil down expertise count from 6604 to ~40\n",
        "\n",
        "# Extracting unique expertise fields\n",
        "expertise_fields = expertise_df['Expertise'].tolist()\n",
        "\n",
        "# Step 1: Generating word embeddings using Sentence Transformers\n",
        "model = SentenceTransformer('all-MiniLM-L6-v2')\n",
        "X = model.encode(expertise_fields)\n",
        "\n",
        "# Step 2: Determining the optimal number of clusters using silhouette score\n",
        "silhouette_scores = []\n",
        "k_values = range(10, 50, 10)\n",
        "\n",
        "for k in k_values:\n",
        "    kmeans = KMeans(n_clusters=k, random_state=0)\n",
        "    kmeans.fit(X)\n",
        "    silhouette_scores.append(silhouette_score(X, kmeans.labels_))\n",
        "\n",
        "# Selecting the optimal number of clusters for kmeans clustering\n",
        "optimal_k = k_values[np.argmax(silhouette_scores)]\n",
        "print(f\"Optimal number of clusters: {optimal_k}\")\n",
        "\n",
        "# Step 3: Fitting KMeans with optimal cluster count\n",
        "kmeans = KMeans(n_clusters=optimal_k, random_state=0)\n",
        "kmeans.fit(X)\n",
        "labels = kmeans.labels_\n",
        "\n",
        "# Step 4: Creating a DataFrame with expertise areas and their assigned cluster\n",
        "expertise_df['Category'] = labels\n",
        "\n",
        "# Step 5: Generating a single representative name for each cluster\n",
        "def get_top_term_per_cluster(expertise_fields, X, labels):\n",
        "    \"\"\"\n",
        "    Get top term for each cluster based on word vector centroids.\n",
        "    \"\"\"\n",
        "    cluster_names = {}\n",
        "    for cluster_num in set(labels):\n",
        "        # Selecting rows in the current cluster\n",
        "        cluster_indices = [i for i, label in enumerate(labels) if label == cluster_num]\n",
        "        cluster_expertise = [expertise_fields[i] for i in cluster_indices]\n",
        "\n",
        "        # Using the most frequent term in the cluster as the representative name\n",
        "        top_term = max(set(cluster_expertise), key=cluster_expertise.count)\n",
        "        cluster_names[cluster_num] = top_term\n",
        "\n",
        "    return cluster_names\n",
        "\n",
        "# Getting single term cluster names\n",
        "cluster_names = get_top_term_per_cluster(expertise_fields, X, labels)\n",
        "\n",
        "# Adding cluster names to expertise_df\n",
        "expertise_df['Category_Name'] = expertise_df['Category'].map(cluster_names)\n",
        "\n",
        "# Merging back with faculty_expertise_df to include the expertise category\n",
        "faculty_expertise_df = faculty_expertise_df.merge(expertise_df[['ExpertiseID', 'Category_Name']], on='ExpertiseID', how='left')"
      ],
      "metadata": {
        "colab": {
          "base_uri": "https://localhost:8080/"
        },
        "id": "Y5fvg6sKql3B",
        "outputId": "268d61dc-7701-45c0-b743-03ec94fe5123"
      },
      "execution_count": 118,
      "outputs": [
        {
          "output_type": "stream",
          "name": "stderr",
          "text": [
            "/usr/local/lib/python3.10/dist-packages/transformers/tokenization_utils_base.py:1601: FutureWarning: `clean_up_tokenization_spaces` was not set. It will be set to `True` by default. This behavior will be depracted in transformers v4.45, and will be then set to `False` by default. For more details check this issue: https://github.com/huggingface/transformers/issues/31884\n",
            "  warnings.warn(\n"
          ]
        },
        {
          "output_type": "stream",
          "name": "stdout",
          "text": [
            "Optimal number of clusters: 40\n"
          ]
        }
      ]
    },
    {
      "cell_type": "code",
      "source": [
        "expertise_df.drop(columns=['index'], inplace=True)\n",
        "country_df.drop(columns=['index'], inplace=True)"
      ],
      "metadata": {
        "id": "vmlveZoIBIy0"
      },
      "execution_count": 119,
      "outputs": []
    },
    {
      "cell_type": "code",
      "source": [
        "print(\"Faculty Table:\\n\", faculty_df)\n",
        "print(\"\\nDepartment Table:\\n\", department_df)\n",
        "print(\"\\nExpertise Table:\\n\", expertise_df)\n",
        "print(\"\\nCountry Table:\\n\", country_df)\n",
        "print(\"\\nFaculty Expertise Table with Category:\\n\", faculty_expertise_df)\n",
        "print(\"\\nFaculty Country Table:\\n\", faculty_country_df)"
      ],
      "metadata": {
        "colab": {
          "base_uri": "https://localhost:8080/"
        },
        "id": "WmIgLypVq218",
        "outputId": "c5ac5eb2-e93b-4104-cdd6-c8c700577d4e"
      },
      "execution_count": 120,
      "outputs": [
        {
          "output_type": "stream",
          "name": "stdout",
          "text": [
            "Faculty Table:\n",
            "      First Name Last Name                     Job Title  FacultyID  \\\n",
            "0     Elizabeth    Catlos           Associate Professor          1   \n",
            "1     Elizabeth    Catlos           Associate Professor          1   \n",
            "2      Benjamin     Gregg                     Professor          2   \n",
            "3      Benjamin     Gregg                     Professor          2   \n",
            "4           Amy       Liu                     Professor          3   \n",
            "...         ...       ...                           ...        ...   \n",
            "1593  Katherine     Freer           Assistant Professor       1290   \n",
            "1594     Jessie   Contour           Associate Professor       1291   \n",
            "1595       Gray    Garmon           Assistant Professor       1292   \n",
            "1596      Farya  Phillips  Research Assistant Professor       1293   \n",
            "1597     Jiabao        Li           Assistant Professor       1294   \n",
            "\n",
            "      DepartmentID  \n",
            "0                1  \n",
            "1               61  \n",
            "2                2  \n",
            "3              121  \n",
            "4                2  \n",
            "...            ...  \n",
            "1593            53  \n",
            "1594            95  \n",
            "1595            95  \n",
            "1596            64  \n",
            "1597            95  \n",
            "\n",
            "[1598 rows x 5 columns]\n",
            "\n",
            "Department Table:\n",
            "                                             Department  \\\n",
            "0           Department of Earth and Planetary Sciences   \n",
            "1                             Department of Government   \n",
            "2                   Department of Chemical Engineering   \n",
            "3           Department of Musicology & Ethnomusicology   \n",
            "4                            Department of Linguistics   \n",
            "..                                                 ...   \n",
            "126                                         Management   \n",
            "127                                                NaN   \n",
            "128                           Department of Philosophy   \n",
            "129  Robert S. Strauss Center for International Sec...   \n",
            "130                                                NaN   \n",
            "\n",
            "                             School  DepartmentID  \n",
            "0     Jackson School of Geosciences             1  \n",
            "1           College of Liberal Arts             2  \n",
            "2    Cockrell School of Engineering             3  \n",
            "3              College of Fine Arts             4  \n",
            "4           College of Liberal Arts             5  \n",
            "..                              ...           ...  \n",
            "126      McCombs School of Business           127  \n",
            "127                   School of Law           128  \n",
            "128                   School of Law           129  \n",
            "129    LBJ School of Public Affairs           130  \n",
            "130  Moody College of Communication           131  \n",
            "\n",
            "[131 rows x 3 columns]\n",
            "\n",
            "Expertise Table:\n",
            "                               Expertise  ExpertiseID  Category  \\\n",
            "0                          geochemistry            1        28   \n",
            "1                            mineralogy            2        28   \n",
            "2                        petrochemical\u000b            3         0   \n",
            "3                         social theory            4         7   \n",
            "4                      political theory            5        17   \n",
            "...                                 ...          ...       ...   \n",
            "6059                     sustainability         6060        29   \n",
            "6060         human-computer interaction         6061         3   \n",
            "6061           interspecies co-creation         6062        23   \n",
            "6062  wearable & immersive technologies         6063        38   \n",
            "6063       art & technology integration         6064        22   \n",
            "\n",
            "                Category_Name  \n",
            "0     geologic carbon storage  \n",
            "1     geologic carbon storage  \n",
            "2           molecular biology  \n",
            "3                    behavior  \n",
            "4                    politics  \n",
            "...                       ...  \n",
            "6059                  ecology  \n",
            "6060                       AI  \n",
            "6061                evolution  \n",
            "6062          computer vision  \n",
            "6063             architecture  \n",
            "\n",
            "[6064 rows x 4 columns]\n",
            "\n",
            "Country Table:\n",
            "         Country  CountryID\n",
            "0       Bolivia          1\n",
            "1       Germany          2\n",
            "2         India          3\n",
            "3         Nepal          4\n",
            "4      Slovakia          5\n",
            "...         ...        ...\n",
            "3928     Sweden       3929\n",
            "3929      Ghana       3930\n",
            "3930     Sweden       3931\n",
            "3931      India       3932\n",
            "3932  Singapore       3933\n",
            "\n",
            "[3933 rows x 2 columns]\n",
            "\n",
            "Faculty Expertise Table with Category:\n",
            "        FacultyID  ExpertiseID            Category_Name\n",
            "0              1            1  geologic carbon storage\n",
            "1              1         2140  geologic carbon storage\n",
            "2              1         3450  geologic carbon storage\n",
            "3              1            2  geologic carbon storage\n",
            "4              1            3        molecular biology\n",
            "...          ...          ...                      ...\n",
            "16759       1294         3184                       AI\n",
            "16760       1294         6061                       AI\n",
            "16761       1294         6062                evolution\n",
            "16762       1294         6063          computer vision\n",
            "16763       1294         6064             architecture\n",
            "\n",
            "[16764 rows x 3 columns]\n",
            "\n",
            "Faculty Country Table:\n",
            "         FacultyID  CountryID\n",
            "0               1          1\n",
            "1               1         74\n",
            "2               1        117\n",
            "3               1        284\n",
            "4               1        444\n",
            "...           ...        ...\n",
            "394999       1294       3235\n",
            "395000       1294       3457\n",
            "395001       1294       3631\n",
            "395002       1294       3778\n",
            "395003       1294       3933\n",
            "\n",
            "[395004 rows x 2 columns]\n"
          ]
        }
      ]
    },
    {
      "cell_type": "code",
      "source": [
        "faculty_df.to_csv(\"faculty.csv\", index=False)\n",
        "department_df.to_csv(\"department.csv\", index=False)\n",
        "expertise_df.to_csv(\"expertise.csv\", index=False)\n",
        "country_df.to_csv(\"countries.csv\", index=False)\n",
        "faculty_expertise_df.to_csv(\"faculty_expertise.csv\", index=False)\n",
        "faculty_country_df.to_csv(\"faculty_country_of_interest.csv\", index=False)"
      ],
      "metadata": {
        "id": "r300eIySq4tG"
      },
      "execution_count": 121,
      "outputs": []
    }
  ]
}